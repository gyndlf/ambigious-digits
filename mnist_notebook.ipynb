{
 "cells": [
  {
   "cell_type": "markdown",
   "id": "bd1f546b-52d4-45f9-ba75-73f82316f770",
   "metadata": {},
   "source": [
    "## MNIST Handwritten digits classifier"
   ]
  },
  {
   "cell_type": "code",
   "execution_count": 1,
   "id": "fb529ab3-fdec-4a3f-8b98-2b3d8363ab03",
   "metadata": {},
   "outputs": [],
   "source": [
    "# Import the goodies\n",
    "%matplotlib inline\n",
    "%load_ext tensorboard\n",
    "\n",
    "import numpy as np\n",
    "import time\n",
    "import tensorflow as tf\n",
    "from tensorflow import keras  # import from tensorflow for better support??? I dunno\n",
    "from tensorflow.keras import layers\n",
    "from tensorflow.keras import models\n",
    "import matplotlib.pyplot as plt\n",
    "from sklearn.preprocessing import OneHotEncoder\n",
    "import seaborn as sns"
   ]
  },
  {
   "cell_type": "code",
   "execution_count": 2,
   "id": "a25df8cd-fa14-4c6c-8608-950a94dd9775",
   "metadata": {},
   "outputs": [],
   "source": [
    "# Load the data\n",
    "(x_train, y_train), (x_test, y_test) = keras.datasets.mnist.load_data()"
   ]
  },
  {
   "cell_type": "code",
   "execution_count": 3,
   "id": "291e40a9-b696-4081-a2c3-6420ca2290e2",
   "metadata": {},
   "outputs": [],
   "source": [
    "# Reshape the data\n",
    "X = x_train.reshape(60000, 28, 28, 1)\n",
    "y = y_train.reshape(60000, 1)\n",
    "\n",
    "# Process the data\n",
    "X = X / 255.0\n",
    "\n",
    "# Onehot encode y_train\n",
    "enc = OneHotEncoder().fit(y)\n",
    "y = enc.transform(y).toarray()"
   ]
  },
  {
   "cell_type": "code",
   "execution_count": 4,
   "id": "e704b0c9-c66e-4a4e-82fa-41aac88c7364",
   "metadata": {},
   "outputs": [
    {
     "data": {
      "text/plain": [
       "array([[0., 0., 0., ..., 0., 0., 0.],\n",
       "       [1., 0., 0., ..., 0., 0., 0.],\n",
       "       [0., 0., 0., ..., 0., 0., 0.],\n",
       "       ...,\n",
       "       [0., 0., 0., ..., 0., 0., 0.],\n",
       "       [0., 0., 0., ..., 0., 0., 0.],\n",
       "       [0., 0., 0., ..., 0., 1., 0.]])"
      ]
     },
     "execution_count": 4,
     "metadata": {},
     "output_type": "execute_result"
    }
   ],
   "source": [
    "y"
   ]
  },
  {
   "cell_type": "markdown",
   "id": "c5cc53a5-e64e-4ebf-909a-2f62a057f971",
   "metadata": {},
   "source": [
    "To find the most ambigious images in the test dataset, we must first build a classifier that gives us the probability of which digit it is"
   ]
  },
  {
   "cell_type": "code",
   "execution_count": 5,
   "id": "0ec73c4c-8b4a-4d5d-be28-2d51d62d4183",
   "metadata": {},
   "outputs": [
    {
     "name": "stderr",
     "output_type": "stream",
     "text": [
      "2021-09-08 11:06:24.830428: I tensorflow/stream_executor/cuda/cuda_gpu_executor.cc:937] successful NUMA node read from SysFS had negative value (-1), but there must be at least one NUMA node, so returning NUMA node zero\n"
     ]
    },
    {
     "name": "stdout",
     "output_type": "stream",
     "text": [
      "Model: \"sequential\"\n",
      "_________________________________________________________________\n",
      "Layer (type)                 Output Shape              Param #   \n",
      "=================================================================\n",
      "conv2d (Conv2D)              (None, 26, 26, 32)        320       \n",
      "_________________________________________________________________\n",
      "max_pooling2d (MaxPooling2D) (None, 13, 13, 32)        0         \n",
      "_________________________________________________________________\n",
      "conv2d_1 (Conv2D)            (None, 11, 11, 64)        18496     \n",
      "_________________________________________________________________\n",
      "max_pooling2d_1 (MaxPooling2 (None, 5, 5, 64)          0         \n",
      "_________________________________________________________________\n",
      "conv2d_2 (Conv2D)            (None, 3, 3, 128)         73856     \n",
      "_________________________________________________________________\n",
      "max_pooling2d_2 (MaxPooling2 (None, 1, 1, 128)         0         \n",
      "_________________________________________________________________\n",
      "flatten (Flatten)            (None, 128)               0         \n",
      "_________________________________________________________________\n",
      "dropout (Dropout)            (None, 128)               0         \n",
      "_________________________________________________________________\n",
      "dense (Dense)                (None, 512)               66048     \n",
      "_________________________________________________________________\n",
      "dense_1 (Dense)              (None, 10)                5130      \n",
      "=================================================================\n",
      "Total params: 163,850\n",
      "Trainable params: 163,850\n",
      "Non-trainable params: 0\n",
      "_________________________________________________________________\n"
     ]
    },
    {
     "name": "stderr",
     "output_type": "stream",
     "text": [
      "2021-09-08 11:06:24.838105: I tensorflow/stream_executor/cuda/cuda_gpu_executor.cc:937] successful NUMA node read from SysFS had negative value (-1), but there must be at least one NUMA node, so returning NUMA node zero\n",
      "2021-09-08 11:06:24.838679: I tensorflow/stream_executor/cuda/cuda_gpu_executor.cc:937] successful NUMA node read from SysFS had negative value (-1), but there must be at least one NUMA node, so returning NUMA node zero\n",
      "2021-09-08 11:06:24.839922: I tensorflow/core/platform/cpu_feature_guard.cc:142] This TensorFlow binary is optimized with oneAPI Deep Neural Network Library (oneDNN) to use the following CPU instructions in performance-critical operations:  AVX2 FMA\n",
      "To enable them in other operations, rebuild TensorFlow with the appropriate compiler flags.\n",
      "2021-09-08 11:06:24.840518: I tensorflow/stream_executor/cuda/cuda_gpu_executor.cc:937] successful NUMA node read from SysFS had negative value (-1), but there must be at least one NUMA node, so returning NUMA node zero\n",
      "2021-09-08 11:06:24.841048: I tensorflow/stream_executor/cuda/cuda_gpu_executor.cc:937] successful NUMA node read from SysFS had negative value (-1), but there must be at least one NUMA node, so returning NUMA node zero\n",
      "2021-09-08 11:06:24.841553: I tensorflow/stream_executor/cuda/cuda_gpu_executor.cc:937] successful NUMA node read from SysFS had negative value (-1), but there must be at least one NUMA node, so returning NUMA node zero\n",
      "2021-09-08 11:06:25.144836: I tensorflow/stream_executor/cuda/cuda_gpu_executor.cc:937] successful NUMA node read from SysFS had negative value (-1), but there must be at least one NUMA node, so returning NUMA node zero\n",
      "2021-09-08 11:06:25.145213: I tensorflow/stream_executor/cuda/cuda_gpu_executor.cc:937] successful NUMA node read from SysFS had negative value (-1), but there must be at least one NUMA node, so returning NUMA node zero\n",
      "2021-09-08 11:06:25.145543: I tensorflow/stream_executor/cuda/cuda_gpu_executor.cc:937] successful NUMA node read from SysFS had negative value (-1), but there must be at least one NUMA node, so returning NUMA node zero\n",
      "2021-09-08 11:06:25.145858: I tensorflow/core/common_runtime/gpu/gpu_device.cc:1510] Created device /job:localhost/replica:0/task:0/device:GPU:0 with 8032 MB memory:  -> device: 0, name: GeForce RTX 3080, pci bus id: 0000:06:00.0, compute capability: 8.6\n"
     ]
    }
   ],
   "source": [
    "# Build the network\n",
    "\n",
    "model = models.Sequential()\n",
    "model.add(layers.Conv2D(32, (3,3), activation='relu', input_shape=(28, 28, 1)))  # Filter the data\n",
    "model.add(layers.MaxPooling2D((2,2)))                                            # Make the view larger; find bigger patterns\n",
    "model.add(layers.Conv2D(64, (3,3), activation='relu'))\n",
    "model.add(layers.MaxPooling2D((2,2)))\n",
    "model.add(layers.Conv2D(128, (3,3), activation='relu'))\n",
    "model.add(layers.MaxPooling2D((2,2)))\n",
    "model.add(layers.Flatten())                                                      # Dimension reduce\n",
    "model.add(layers.Dropout(0.5))                                                   # Get rid of conspiracies\n",
    "model.add(layers.Dense(512, activation='relu'))\n",
    "model.add(layers.Dense(10, activation='sigmoid'))\n",
    "\n",
    "model.summary()\n",
    "\n",
    "callbacks = [\n",
    "    tf.keras.callbacks.EarlyStopping(patience=3, restore_best_weights=True, monitor=\"loss\"),  # Stop early if training is only going ok\n",
    "    tf.keras.callbacks.ModelCheckpoint(\"model.h5\", save_best_only=True, monitor=\"loss\"),\n",
    "    tf.keras.callbacks.ProgbarLogger(),\n",
    "#    tf.keras.callbacks.TensorBoard(log_dir=log_dir, histogram_freq=1)\n",
    "]\n",
    "\n",
    "\n",
    "model.compile(loss='binary_crossentropy',\n",
    "              optimizer=keras.optimizers.RMSprop(learning_rate=1e-4),\n",
    "              metrics=['acc'])"
   ]
  },
  {
   "cell_type": "code",
   "execution_count": 6,
   "id": "bbf19c3e-6cfb-42bd-b551-9ca4bf1e1e1b",
   "metadata": {},
   "outputs": [
    {
     "name": "stderr",
     "output_type": "stream",
     "text": [
      "2021-09-08 11:06:25.402842: I tensorflow/compiler/mlir/mlir_graph_optimization_pass.cc:185] None of the MLIR Optimization Passes are enabled (registered 2)\n",
      "2021-09-08 11:06:26.138064: I tensorflow/stream_executor/cuda/cuda_dnn.cc:369] Loaded cuDNN version 8100\n",
      "2021-09-08 11:06:26.989602: I tensorflow/stream_executor/cuda/cuda_blas.cc:1760] TensorFloat-32 will be used for the matrix multiplication. This will only be logged once.\n"
     ]
    },
    {
     "name": "stdout",
     "output_type": "stream",
     "text": [
      "Took 33.7511 seconds to train the network\n"
     ]
    }
   ],
   "source": [
    "# Fit the network\n",
    "tick = time.time()\n",
    "history = model.fit(X, y,\n",
    "                    epochs=30,\n",
    "                    batch_size=128,\n",
    "                    validation_split=0.2,\n",
    "                    verbose=0)\n",
    "#model.save('net1.h5')\n",
    "print('Took',(time.time()-tick).__round__(4),'seconds to train the network')"
   ]
  },
  {
   "cell_type": "code",
   "execution_count": 7,
   "id": "1cf7da62-0c12-4cbc-bd54-d62f0cd20d32",
   "metadata": {},
   "outputs": [
    {
     "data": {
      "image/png": "[encoded data removed]",
      "text/plain": [
       "<Figure size 432x288 with 1 Axes>"
      ]
     },
     "metadata": {
      "needs_background": "light"
     },
     "output_type": "display_data"
    },
    {
     "data": {
      "image/png": "[encoded data removed]",
      "text/plain": [
       "<Figure size 432x288 with 1 Axes>"
      ]
     },
     "metadata": {
      "needs_background": "light"
     },
     "output_type": "display_data"
    }
   ],
   "source": [
    "acc = history.history['acc']\n",
    "val_acc = history.history['val_acc']\n",
    "loss = history.history['loss']\n",
    "val_loss = history.history['val_loss']\n",
    "\n",
    "epochs = range(1, len(acc)+1)\n",
    "\n",
    "plt.plot(epochs, acc, 'r-', label='Training acc')\n",
    "plt.plot(epochs, val_acc, 'b-', label='Validation acc')\n",
    "plt.title('Validation and Training accuracy')\n",
    "plt.legend()\n",
    "\n",
    "plt.figure()  # Combines the two graphs\n",
    "\n",
    "plt.plot(epochs, loss, 'r-', label='Training loss')\n",
    "plt.plot(epochs, val_loss, 'b-', label='Validation loss')\n",
    "plt.title('Validation and Training loss')\n",
    "plt.legend()\n",
    "\n",
    "plt.show()"
   ]
  },
  {
   "cell_type": "code",
   "execution_count": 8,
   "id": "abdf7464-8011-409b-b788-dbb577705ea6",
   "metadata": {},
   "outputs": [],
   "source": [
    "# Test and see how well it classified the data\n",
    "X_ = x_test.reshape(10000, 28, 28, 1)\n",
    "\n",
    "X_ = X_ / 255.0\n",
    "\n",
    "preds = model.predict(X_)"
   ]
  },
  {
   "cell_type": "code",
   "execution_count": 9,
   "id": "bd10ffae-cd6a-4251-9b98-6375b7f0295c",
   "metadata": {},
   "outputs": [],
   "source": [
    "# Find what the model's predictions actually were\n",
    "summary = np.zeros((10,10))\n",
    "\n",
    "for p, truth in zip(preds, y_test):\n",
    "    summary[truth] += p\n",
    "    #print(p, truth)\n",
    "\n",
    "row_sums = summary.sum(axis=1)\n",
    "summary = summary / row_sums[:, np.newaxis]    "
   ]
  },
  {
   "cell_type": "code",
   "execution_count": 10,
   "id": "db2d9379-9541-4bf5-ac0c-faf352726e15",
   "metadata": {},
   "outputs": [
    {
     "data": {
      "text/plain": [
       "<AxesSubplot:>"
      ]
     },
     "execution_count": 10,
     "metadata": {},
     "output_type": "execute_result"
    },
    {
     "data": {
      "image/png": "[encoded data removed]",
      "text/plain": [
       "<Figure size 432x288 with 2 Axes>"
      ]
     },
     "metadata": {
      "needs_background": "light"
     },
     "output_type": "display_data"
    }
   ],
   "source": [
    "# Add a seaborn plot of 1-10 of classes on each row and how well it classified them\n",
    "sns.heatmap(summary)"
   ]
  },
  {
   "cell_type": "code",
   "execution_count": 11,
   "id": "3609be3c-eeed-40da-91be-314a4b7174ee",
   "metadata": {},
   "outputs": [
    {
     "data": {
      "text/plain": [
       "array([[0.00000000e+00, 7.00000000e+00, 7.00000000e+00, 9.99733031e-01],\n",
       "       [1.00000000e+00, 2.00000000e+00, 2.00000000e+00, 9.99979973e-01],\n",
       "       [2.00000000e+00, 1.00000000e+00, 1.00000000e+00, 9.99939680e-01],\n",
       "       ...,\n",
       "       [9.99700000e+03, 4.00000000e+00, 4.00000000e+00, 9.99999523e-01],\n",
       "       [9.99800000e+03, 5.00000000e+00, 5.00000000e+00, 9.98641431e-01],\n",
       "       [9.99900000e+03, 6.00000000e+00, 6.00000000e+00, 9.99644637e-01]])"
      ]
     },
     "execution_count": 11,
     "metadata": {},
     "output_type": "execute_result"
    }
   ],
   "source": [
    "arr = np.vstack((np.arange(0,10000), y_test, preds.argmax(axis=1), np.max(preds, axis=1))).T  \n",
    "arr   # Columns: Index, Truth, Guess, Confidence"
   ]
  },
  {
   "cell_type": "code",
   "execution_count": 12,
   "id": "2ed36c49-04cf-49f0-a822-da430152d7ca",
   "metadata": {},
   "outputs": [
    {
     "data": {
      "text/plain": [
       "array([[4.24800000e+03, 2.00000000e+00, 4.00000000e+00, 1.16691858e-01],\n",
       "       [9.67900000e+03, 6.00000000e+00, 6.00000000e+00, 1.98145241e-01],\n",
       "       [2.48800000e+03, 2.00000000e+00, 4.00000000e+00, 2.28479385e-01],\n",
       "       ...,\n",
       "       [6.97000000e+02, 4.00000000e+00, 4.00000000e+00, 1.00000000e+00],\n",
       "       [2.38000000e+02, 4.00000000e+00, 4.00000000e+00, 1.00000000e+00],\n",
       "       [8.67500000e+03, 4.00000000e+00, 4.00000000e+00, 1.00000000e+00]])"
      ]
     },
     "execution_count": 12,
     "metadata": {},
     "output_type": "execute_result"
    }
   ],
   "source": [
    "# Find the 10 most worst classified datapoints (by its own estimation)\n",
    "arr = arr[arr[:,3].argsort()]\n",
    "arr"
   ]
  },
  {
   "cell_type": "markdown",
   "id": "8c79b2e7-a8c8-4f23-865b-09d9bb2549ca",
   "metadata": {},
   "source": [
    "Create a heatmap of these bad classifications"
   ]
  },
  {
   "cell_type": "code",
   "execution_count": 13,
   "id": "530c0b6b-ef87-4ffc-a1fe-d7284bb51d7d",
   "metadata": {},
   "outputs": [
    {
     "data": {
      "text/plain": [
       "array([[4.24800000e+03, 2.00000000e+00, 4.00000000e+00, 1.16691858e-01],\n",
       "       [9.67900000e+03, 6.00000000e+00, 6.00000000e+00, 1.98145241e-01],\n",
       "       [2.48800000e+03, 2.00000000e+00, 4.00000000e+00, 2.28479385e-01],\n",
       "       [7.21600000e+03, 0.00000000e+00, 6.00000000e+00, 2.50507116e-01],\n",
       "       [6.55800000e+03, 6.00000000e+00, 5.00000000e+00, 2.54424483e-01],\n",
       "       [1.41400000e+03, 9.00000000e+00, 5.00000000e+00, 2.60238349e-01],\n",
       "       [3.77800000e+03, 5.00000000e+00, 0.00000000e+00, 2.65057653e-01],\n",
       "       [2.11800000e+03, 6.00000000e+00, 4.00000000e+00, 2.73076832e-01],\n",
       "       [3.06200000e+03, 8.00000000e+00, 2.00000000e+00, 2.77831972e-01],\n",
       "       [6.59000000e+02, 2.00000000e+00, 1.00000000e+00, 3.00561458e-01]])"
      ]
     },
     "execution_count": 13,
     "metadata": {},
     "output_type": "execute_result"
    }
   ],
   "source": [
    "arr[:10]"
   ]
  },
  {
   "cell_type": "code",
   "execution_count": 14,
   "id": "d6added4-e4ac-413f-bdc6-b100e47a6e2c",
   "metadata": {},
   "outputs": [
    {
     "data": {
      "image/png": "[encoded data removed]",
      "text/plain": [
       "<Figure size 432x288 with 2 Axes>"
      ]
     },
     "metadata": {
      "needs_background": "light"
     },
     "output_type": "display_data"
    }
   ],
   "source": [
    "# Amount to show\n",
    "n = 100\n",
    "heat = np.zeros((10,10))\n",
    "\n",
    "for i, truth, guess, con in arr[:n]:\n",
    "    heat[int(truth), int(guess)] += 1\n",
    "\n",
    "row_sums = heat.sum(axis=1)\n",
    "heat = heat / row_sums[:, np.newaxis] \n",
    "\n",
    "ax = plt.axes()\n",
    "sns.heatmap(heat, ax=ax)\n",
    "ax.set_title(f'{n} worst classified digits')\n",
    "plt.xlabel(\"Ground Truth\")\n",
    "plt.ylabel(\"Prediction\")\n",
    "plt.show()"
   ]
  },
  {
   "cell_type": "code",
   "execution_count": 15,
   "id": "feb97d54-601d-40e7-8d65-770f58e1770f",
   "metadata": {},
   "outputs": [
    {
     "data": {
      "image/png": "[encoded data removed]",
      "text/plain": [
       "<Figure size 288x288 with 1 Axes>"
      ]
     },
     "metadata": {
      "needs_background": "light"
     },
     "output_type": "display_data"
    }
   ],
   "source": [
    "x_test[4248].shape\n",
    "plt.matshow(x_test[326])\n",
    "plt.show()"
   ]
  },
  {
   "cell_type": "code",
   "execution_count": 16,
   "id": "ed424a43-cd9b-4ce5-b854-061d250ac277",
   "metadata": {},
   "outputs": [
    {
     "data": {
      "text/plain": [
       "array([4248, 9679, 2488, 7216, 6558, 1414, 3778, 2118, 3062,  659])"
      ]
     },
     "execution_count": 16,
     "metadata": {},
     "output_type": "execute_result"
    }
   ],
   "source": [
    "arr[:, 0][:10].astype('int')"
   ]
  },
  {
   "cell_type": "code",
   "execution_count": 17,
   "id": "fe767318-1b95-4cc4-af44-a760de35b5a9",
   "metadata": {},
   "outputs": [
    {
     "data": {
      "image/png": "[encoded data removed]",
      "text/plain": [
       "<Figure size 432x288 with 10 Axes>"
      ]
     },
     "metadata": {
      "needs_background": "light"
     },
     "output_type": "display_data"
    }
   ],
   "source": [
    "cols = 5\n",
    "rows = 2\n",
    "\n",
    "to_plot = arr[:, 0][:10].astype('int')\n",
    "\n",
    "fig, axs = plt.subplots(rows, cols)\n",
    "fig.tight_layout()\n",
    "\n",
    "cnt = 0\n",
    "for i in range(rows):\n",
    "    for j in range(cols):\n",
    "        axs[i,j].matshow(x_test[to_plot[cnt]])\n",
    "        axs[i, j].set_title(f'{to_plot[cnt]}')\n",
    "        axs[i, j].xaxis.set_ticklabels([])\n",
    "        axs[i, j].yaxis.set_ticklabels([])\n",
    "        cnt += 1\n",
    "\n",
    "plt.show()"
   ]
  }
 ],
 "metadata": {
  "kernelspec": {
   "display_name": "Python [conda env:kaggle_base]",
   "language": "python",
   "name": "conda-env-kaggle_base-py"
  },
  "language_info": {
   "codemirror_mode": {
    "name": "ipython",
    "version": 3
   },
   "file_extension": ".py",
   "mimetype": "text/x-python",
   "name": "python",
   "nbconvert_exporter": "python",
   "pygments_lexer": "ipython3",
   "version": "3.7.11"
  }
 },
 "nbformat": 4,
 "nbformat_minor": 5
}
